{
 "cells": [
  {
   "cell_type": "markdown",
   "id": "ec8280fb",
   "metadata": {},
   "source": [
    "# Relational Database SQLite\n",
    "### By Charles K. MAWUSI "
   ]
  },
  {
   "cell_type": "code",
   "execution_count": 95,
   "id": "729a5b5e",
   "metadata": {},
   "outputs": [],
   "source": [
    "import sqlite3\n",
    "\n",
    "# Creating our own database and customer table \n",
    "con = sqlite3.connect('customer.db')\n",
    "cursor=con.cursor()\n",
    "\n",
    "cursor.execute(\"\"\"\n",
    "DROP TABLE IF EXISTS customers_table;\n",
    "\"\"\") # Drop all existing customer tables\n",
    "\n",
    "querry = \"\"\"\n",
    "CREATE TABLE customers_table( \n",
    "first_name text,\n",
    "last_name   text,\n",
    "email_address text,\n",
    "age real);\n",
    "\"\"\"   \n",
    "cursor.execute(querry)\n",
    "con.commit()"
   ]
  },
  {
   "cell_type": "markdown",
   "id": "2013723e",
   "metadata": {},
   "source": [
    "#### Inserting data into customer table "
   ]
  },
  {
   "cell_type": "code",
   "execution_count": 96,
   "id": "57a395a1",
   "metadata": {},
   "outputs": [
    {
     "name": "stdout",
     "output_type": "stream",
     "text": [
      "[]\n"
     ]
    }
   ],
   "source": [
    "cursor.execute(\"\"\"SELECT *\n",
    "    FROM customers_table\n",
    "    LIMIT 5; \n",
    "    \"\"\")\n",
    "data=cursor.fetchall()\n",
    "print(data)"
   ]
  },
  {
   "cell_type": "markdown",
   "id": "b7e267aa",
   "metadata": {},
   "source": [
    "#### Inserting Tables into DB"
   ]
  },
  {
   "cell_type": "code",
   "execution_count": 97,
   "id": "21d7fff8",
   "metadata": {},
   "outputs": [],
   "source": [
    "cursor.execute(\"\"\"\n",
    "INSERT INTO customers_table VALUES\n",
    "('charles','MAWUSI','mawusicharles@yahoo.com',36), \n",
    "('Amandine', 'Ribot', 'Amandineribot01@gmail.com',35);\n",
    "\"\"\")\n",
    "con.commit()\n",
    "\n"
   ]
  },
  {
   "cell_type": "markdown",
   "id": "81640eac",
   "metadata": {},
   "source": [
    "#### Retrieve data From customer_table "
   ]
  },
  {
   "cell_type": "code",
   "execution_count": 101,
   "id": "df0c9f99",
   "metadata": {},
   "outputs": [
    {
     "name": "stdout",
     "output_type": "stream",
     "text": [
      "[('charles', 'MAWUSI', 'mawusicharles@yahoo.com', 36.0), ('Amandine', 'Ribot', 'Amandineribot01@gmail.com', 35.0)]\n"
     ]
    }
   ],
   "source": [
    "cursor.execute(\"\"\"\n",
    "select * \n",
    "FROM customers_table;\n",
    "\"\"\")\n",
    "result=cursor.fetchall()\n",
    "print(result)\n",
    "con.close()"
   ]
  },
  {
   "cell_type": "code",
   "execution_count": null,
   "id": "8daf9b69",
   "metadata": {},
   "outputs": [],
   "source": []
  },
  {
   "cell_type": "code",
   "execution_count": null,
   "id": "4e710f1e",
   "metadata": {},
   "outputs": [],
   "source": []
  }
 ],
 "metadata": {
  "kernelspec": {
   "display_name": "Python 3",
   "language": "python",
   "name": "python3"
  },
  "language_info": {
   "codemirror_mode": {
    "name": "ipython",
    "version": 3
   },
   "file_extension": ".py",
   "mimetype": "text/x-python",
   "name": "python",
   "nbconvert_exporter": "python",
   "pygments_lexer": "ipython3",
   "version": "3.8.8"
  },
  "varInspector": {
   "cols": {
    "lenName": 16,
    "lenType": 16,
    "lenVar": 40
   },
   "kernels_config": {
    "python": {
     "delete_cmd_postfix": "",
     "delete_cmd_prefix": "del ",
     "library": "var_list.py",
     "varRefreshCmd": "print(var_dic_list())"
    },
    "r": {
     "delete_cmd_postfix": ") ",
     "delete_cmd_prefix": "rm(",
     "library": "var_list.r",
     "varRefreshCmd": "cat(var_dic_list()) "
    }
   },
   "types_to_exclude": [
    "module",
    "function",
    "builtin_function_or_method",
    "instance",
    "_Feature"
   ],
   "window_display": false
  }
 },
 "nbformat": 4,
 "nbformat_minor": 5
}
