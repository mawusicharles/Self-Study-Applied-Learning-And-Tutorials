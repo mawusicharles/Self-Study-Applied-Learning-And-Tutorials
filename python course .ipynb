{
 "cells": [
  {
   "cell_type": "markdown",
   "id": "98000746",
   "metadata": {},
   "source": [
    "# Full Python Course "
   ]
  },
  {
   "cell_type": "markdown",
   "id": "c61d856a",
   "metadata": {},
   "source": [
    "### Variables And Strings  "
   ]
  },
  {
   "cell_type": "code",
   "execution_count": 21,
   "id": "0e198138",
   "metadata": {},
   "outputs": [
    {
     "name": "stdout",
     "output_type": "stream",
     "text": [
      "Collecting jupyter_contrib_nbextensions\n",
      "  Downloading jupyter_contrib_nbextensions-0.7.0.tar.gz (23.5 MB)\n",
      "\u001b[K     |████████████████████████████████| 23.5 MB 3.0 MB/s eta 0:00:01\n",
      "\u001b[?25hRequirement already satisfied: ipython_genutils in /Users/charlesmawusi/opt/anaconda3/lib/python3.9/site-packages (from jupyter_contrib_nbextensions) (0.2.0)\n",
      "Collecting jupyter_contrib_core>=0.3.3\n",
      "  Downloading jupyter_contrib_core-0.4.2.tar.gz (17 kB)\n",
      "Requirement already satisfied: jupyter_core in /Users/charlesmawusi/opt/anaconda3/lib/python3.9/site-packages (from jupyter_contrib_nbextensions) (4.8.1)\n",
      "Collecting jupyter_highlight_selected_word>=0.1.1\n",
      "  Downloading jupyter_highlight_selected_word-0.2.0-py2.py3-none-any.whl (11 kB)\n",
      "Collecting jupyter_nbextensions_configurator>=0.4.0\n",
      "  Downloading jupyter_nbextensions_configurator-0.6.3-py2.py3-none-any.whl (466 kB)\n",
      "\u001b[K     |████████████████████████████████| 466 kB 125.4 MB/s eta 0:00:01\n",
      "\u001b[?25hRequirement already satisfied: nbconvert>=6.0 in /Users/charlesmawusi/opt/anaconda3/lib/python3.9/site-packages (from jupyter_contrib_nbextensions) (6.1.0)\n",
      "Requirement already satisfied: notebook>=6.0 in /Users/charlesmawusi/opt/anaconda3/lib/python3.9/site-packages (from jupyter_contrib_nbextensions) (6.4.5)\n",
      "Requirement already satisfied: tornado in /Users/charlesmawusi/opt/anaconda3/lib/python3.9/site-packages (from jupyter_contrib_nbextensions) (6.1)\n",
      "Requirement already satisfied: traitlets>=4.1 in /Users/charlesmawusi/opt/anaconda3/lib/python3.9/site-packages (from jupyter_contrib_nbextensions) (5.1.0)\n",
      "Requirement already satisfied: lxml in /Users/charlesmawusi/opt/anaconda3/lib/python3.9/site-packages (from jupyter_contrib_nbextensions) (4.6.3)\n",
      "Requirement already satisfied: setuptools in /Users/charlesmawusi/opt/anaconda3/lib/python3.9/site-packages (from jupyter_contrib_core>=0.3.3->jupyter_contrib_nbextensions) (58.0.4)\n",
      "Requirement already satisfied: pyyaml in /Users/charlesmawusi/opt/anaconda3/lib/python3.9/site-packages (from jupyter_nbextensions_configurator>=0.4.0->jupyter_contrib_nbextensions) (6.0)\n",
      "Requirement already satisfied: bleach in /Users/charlesmawusi/opt/anaconda3/lib/python3.9/site-packages (from nbconvert>=6.0->jupyter_contrib_nbextensions) (4.0.0)\n",
      "Requirement already satisfied: nbclient<0.6.0,>=0.5.0 in /Users/charlesmawusi/opt/anaconda3/lib/python3.9/site-packages (from nbconvert>=6.0->jupyter_contrib_nbextensions) (0.5.3)\n",
      "Requirement already satisfied: nbformat>=4.4 in /Users/charlesmawusi/opt/anaconda3/lib/python3.9/site-packages (from nbconvert>=6.0->jupyter_contrib_nbextensions) (5.1.3)\n",
      "Requirement already satisfied: defusedxml in /Users/charlesmawusi/opt/anaconda3/lib/python3.9/site-packages (from nbconvert>=6.0->jupyter_contrib_nbextensions) (0.7.1)\n",
      "Requirement already satisfied: testpath in /Users/charlesmawusi/opt/anaconda3/lib/python3.9/site-packages (from nbconvert>=6.0->jupyter_contrib_nbextensions) (0.5.0)\n",
      "Requirement already satisfied: jupyterlab-pygments in /Users/charlesmawusi/opt/anaconda3/lib/python3.9/site-packages (from nbconvert>=6.0->jupyter_contrib_nbextensions) (0.1.2)\n",
      "Requirement already satisfied: mistune<2,>=0.8.1 in /Users/charlesmawusi/opt/anaconda3/lib/python3.9/site-packages (from nbconvert>=6.0->jupyter_contrib_nbextensions) (0.8.4)\n",
      "Requirement already satisfied: entrypoints>=0.2.2 in /Users/charlesmawusi/opt/anaconda3/lib/python3.9/site-packages (from nbconvert>=6.0->jupyter_contrib_nbextensions) (0.3)\n",
      "Requirement already satisfied: jinja2>=2.4 in /Users/charlesmawusi/opt/anaconda3/lib/python3.9/site-packages (from nbconvert>=6.0->jupyter_contrib_nbextensions) (2.11.3)\n",
      "Requirement already satisfied: pygments>=2.4.1 in /Users/charlesmawusi/opt/anaconda3/lib/python3.9/site-packages (from nbconvert>=6.0->jupyter_contrib_nbextensions) (2.10.0)\n",
      "Requirement already satisfied: pandocfilters>=1.4.1 in /Users/charlesmawusi/opt/anaconda3/lib/python3.9/site-packages (from nbconvert>=6.0->jupyter_contrib_nbextensions) (1.4.3)\n",
      "Requirement already satisfied: MarkupSafe>=0.23 in /Users/charlesmawusi/opt/anaconda3/lib/python3.9/site-packages (from jinja2>=2.4->nbconvert>=6.0->jupyter_contrib_nbextensions) (1.1.1)\n",
      "Requirement already satisfied: async-generator in /Users/charlesmawusi/opt/anaconda3/lib/python3.9/site-packages (from nbclient<0.6.0,>=0.5.0->nbconvert>=6.0->jupyter_contrib_nbextensions) (1.10)\n",
      "Requirement already satisfied: nest-asyncio in /Users/charlesmawusi/opt/anaconda3/lib/python3.9/site-packages (from nbclient<0.6.0,>=0.5.0->nbconvert>=6.0->jupyter_contrib_nbextensions) (1.5.1)\n",
      "Requirement already satisfied: jupyter-client>=6.1.5 in /Users/charlesmawusi/opt/anaconda3/lib/python3.9/site-packages (from nbclient<0.6.0,>=0.5.0->nbconvert>=6.0->jupyter_contrib_nbextensions) (6.1.12)\n",
      "Requirement already satisfied: pyzmq>=13 in /Users/charlesmawusi/opt/anaconda3/lib/python3.9/site-packages (from jupyter-client>=6.1.5->nbclient<0.6.0,>=0.5.0->nbconvert>=6.0->jupyter_contrib_nbextensions) (22.2.1)\n",
      "Requirement already satisfied: python-dateutil>=2.1 in /Users/charlesmawusi/opt/anaconda3/lib/python3.9/site-packages (from jupyter-client>=6.1.5->nbclient<0.6.0,>=0.5.0->nbconvert>=6.0->jupyter_contrib_nbextensions) (2.8.2)\n",
      "Requirement already satisfied: jsonschema!=2.5.0,>=2.4 in /Users/charlesmawusi/opt/anaconda3/lib/python3.9/site-packages (from nbformat>=4.4->nbconvert>=6.0->jupyter_contrib_nbextensions) (3.2.0)\n",
      "Requirement already satisfied: attrs>=17.4.0 in /Users/charlesmawusi/opt/anaconda3/lib/python3.9/site-packages (from jsonschema!=2.5.0,>=2.4->nbformat>=4.4->nbconvert>=6.0->jupyter_contrib_nbextensions) (21.2.0)\n",
      "Requirement already satisfied: pyrsistent>=0.14.0 in /Users/charlesmawusi/opt/anaconda3/lib/python3.9/site-packages (from jsonschema!=2.5.0,>=2.4->nbformat>=4.4->nbconvert>=6.0->jupyter_contrib_nbextensions) (0.18.0)\n",
      "Requirement already satisfied: six>=1.11.0 in /Users/charlesmawusi/opt/anaconda3/lib/python3.9/site-packages (from jsonschema!=2.5.0,>=2.4->nbformat>=4.4->nbconvert>=6.0->jupyter_contrib_nbextensions) (1.16.0)\n",
      "Requirement already satisfied: ipykernel in /Users/charlesmawusi/opt/anaconda3/lib/python3.9/site-packages (from notebook>=6.0->jupyter_contrib_nbextensions) (6.4.1)\n",
      "Requirement already satisfied: prometheus-client in /Users/charlesmawusi/opt/anaconda3/lib/python3.9/site-packages (from notebook>=6.0->jupyter_contrib_nbextensions) (0.11.0)\n",
      "Requirement already satisfied: Send2Trash>=1.5.0 in /Users/charlesmawusi/opt/anaconda3/lib/python3.9/site-packages (from notebook>=6.0->jupyter_contrib_nbextensions) (1.8.0)\n",
      "Requirement already satisfied: argon2-cffi in /Users/charlesmawusi/opt/anaconda3/lib/python3.9/site-packages (from notebook>=6.0->jupyter_contrib_nbextensions) (20.1.0)\n",
      "Requirement already satisfied: terminado>=0.8.3 in /Users/charlesmawusi/opt/anaconda3/lib/python3.9/site-packages (from notebook>=6.0->jupyter_contrib_nbextensions) (0.9.4)\n",
      "Requirement already satisfied: ptyprocess in /Users/charlesmawusi/opt/anaconda3/lib/python3.9/site-packages (from terminado>=0.8.3->notebook>=6.0->jupyter_contrib_nbextensions) (0.7.0)\n",
      "Requirement already satisfied: cffi>=1.0.0 in /Users/charlesmawusi/opt/anaconda3/lib/python3.9/site-packages (from argon2-cffi->notebook>=6.0->jupyter_contrib_nbextensions) (1.14.6)\n",
      "Requirement already satisfied: pycparser in /Users/charlesmawusi/opt/anaconda3/lib/python3.9/site-packages (from cffi>=1.0.0->argon2-cffi->notebook>=6.0->jupyter_contrib_nbextensions) (2.20)\n",
      "Requirement already satisfied: packaging in /Users/charlesmawusi/opt/anaconda3/lib/python3.9/site-packages (from bleach->nbconvert>=6.0->jupyter_contrib_nbextensions) (21.0)\n",
      "Requirement already satisfied: webencodings in /Users/charlesmawusi/opt/anaconda3/lib/python3.9/site-packages (from bleach->nbconvert>=6.0->jupyter_contrib_nbextensions) (0.5.1)\n",
      "Requirement already satisfied: matplotlib-inline<0.2.0,>=0.1.0 in /Users/charlesmawusi/opt/anaconda3/lib/python3.9/site-packages (from ipykernel->notebook>=6.0->jupyter_contrib_nbextensions) (0.1.2)\n",
      "Requirement already satisfied: appnope in /Users/charlesmawusi/opt/anaconda3/lib/python3.9/site-packages (from ipykernel->notebook>=6.0->jupyter_contrib_nbextensions) (0.1.2)\n",
      "Requirement already satisfied: debugpy<2.0,>=1.0.0 in /Users/charlesmawusi/opt/anaconda3/lib/python3.9/site-packages (from ipykernel->notebook>=6.0->jupyter_contrib_nbextensions) (1.4.1)\n",
      "Requirement already satisfied: ipython<8.0,>=7.23.1 in /Users/charlesmawusi/opt/anaconda3/lib/python3.9/site-packages (from ipykernel->notebook>=6.0->jupyter_contrib_nbextensions) (7.29.0)\n",
      "Requirement already satisfied: prompt-toolkit!=3.0.0,!=3.0.1,<3.1.0,>=2.0.0 in /Users/charlesmawusi/opt/anaconda3/lib/python3.9/site-packages (from ipython<8.0,>=7.23.1->ipykernel->notebook>=6.0->jupyter_contrib_nbextensions) (3.0.20)\n",
      "Requirement already satisfied: jedi>=0.16 in /Users/charlesmawusi/opt/anaconda3/lib/python3.9/site-packages (from ipython<8.0,>=7.23.1->ipykernel->notebook>=6.0->jupyter_contrib_nbextensions) (0.17.2)\n",
      "Requirement already satisfied: pexpect>4.3 in /Users/charlesmawusi/opt/anaconda3/lib/python3.9/site-packages (from ipython<8.0,>=7.23.1->ipykernel->notebook>=6.0->jupyter_contrib_nbextensions) (4.8.0)\n",
      "Requirement already satisfied: pickleshare in /Users/charlesmawusi/opt/anaconda3/lib/python3.9/site-packages (from ipython<8.0,>=7.23.1->ipykernel->notebook>=6.0->jupyter_contrib_nbextensions) (0.7.5)\n",
      "Requirement already satisfied: decorator in /Users/charlesmawusi/opt/anaconda3/lib/python3.9/site-packages (from ipython<8.0,>=7.23.1->ipykernel->notebook>=6.0->jupyter_contrib_nbextensions) (5.1.0)\n",
      "Requirement already satisfied: backcall in /Users/charlesmawusi/opt/anaconda3/lib/python3.9/site-packages (from ipython<8.0,>=7.23.1->ipykernel->notebook>=6.0->jupyter_contrib_nbextensions) (0.2.0)\n",
      "Requirement already satisfied: parso<0.8.0,>=0.7.0 in /Users/charlesmawusi/opt/anaconda3/lib/python3.9/site-packages (from jedi>=0.16->ipython<8.0,>=7.23.1->ipykernel->notebook>=6.0->jupyter_contrib_nbextensions) (0.7.1)\n",
      "Requirement already satisfied: wcwidth in /Users/charlesmawusi/opt/anaconda3/lib/python3.9/site-packages (from prompt-toolkit!=3.0.0,!=3.0.1,<3.1.0,>=2.0.0->ipython<8.0,>=7.23.1->ipykernel->notebook>=6.0->jupyter_contrib_nbextensions) (0.2.5)\n"
     ]
    },
    {
     "name": "stdout",
     "output_type": "stream",
     "text": [
      "Requirement already satisfied: pyparsing>=2.0.2 in /Users/charlesmawusi/opt/anaconda3/lib/python3.9/site-packages (from packaging->bleach->nbconvert>=6.0->jupyter_contrib_nbextensions) (3.0.4)\n",
      "Building wheels for collected packages: jupyter-contrib-nbextensions, jupyter-contrib-core\n",
      "  Building wheel for jupyter-contrib-nbextensions (setup.py) ... \u001b[?25ldone\n",
      "\u001b[?25h  Created wheel for jupyter-contrib-nbextensions: filename=jupyter_contrib_nbextensions-0.7.0-py2.py3-none-any.whl size=23428787 sha256=cec09bd7848321efe304ddd299062b3af0f538f14df07869c764ea158aa0737b\n",
      "  Stored in directory: /Users/charlesmawusi/Library/Caches/pip/wheels/e7/99/91/7f24a075786a6760f3ac32ab5fa92e1d1a90e0d2cd8958adfd\n",
      "  Building wheel for jupyter-contrib-core (setup.py) ... \u001b[?25ldone\n",
      "\u001b[?25h  Created wheel for jupyter-contrib-core: filename=jupyter_contrib_core-0.4.2-py2.py3-none-any.whl size=17490 sha256=a10f416c6e63ba40a4ad6c49ab4fb44b1e4e01d4d60b53c9f65b788b2017cf25\n",
      "  Stored in directory: /Users/charlesmawusi/Library/Caches/pip/wheels/57/9f/80/32c07b8a950a45f6cf8cd5980c22a27ce514c27b795250e497\n",
      "Successfully built jupyter-contrib-nbextensions jupyter-contrib-core\n",
      "Installing collected packages: jupyter-contrib-core, jupyter-nbextensions-configurator, jupyter-highlight-selected-word, jupyter-contrib-nbextensions\n",
      "Successfully installed jupyter-contrib-core-0.4.2 jupyter-contrib-nbextensions-0.7.0 jupyter-highlight-selected-word-0.2.0 jupyter-nbextensions-configurator-0.6.3\n"
     ]
    }
   ],
   "source": [
    "!pip install jupyter_contrib_nbextensions"
   ]
  },
  {
   "cell_type": "code",
   "execution_count": 3,
   "id": "48d8298d",
   "metadata": {},
   "outputs": [
    {
     "name": "stdout",
     "output_type": "stream",
     "text": [
      "Collecting package metadata (current_repodata.json): done\n",
      "Solving environment: done\n",
      "\n",
      "\n",
      "==> WARNING: A newer version of conda exists. <==\n",
      "  current version: 4.14.0\n",
      "  latest version: 23.5.0\n",
      "\n",
      "Please update conda by running\n",
      "\n",
      "    $ conda update -n base -c conda-forge conda\n",
      "\n",
      "\n",
      "\n",
      "## Package Plan ##\n",
      "\n",
      "  environment location: /Users/charlesmawusi/opt/anaconda3\n",
      "\n",
      "  added / updated specs:\n",
      "    - jupyter_nbextensions_configurator\n",
      "\n",
      "\n",
      "The following packages will be downloaded:\n",
      "\n",
      "    package                    |            build\n",
      "    ---------------------------|-----------------\n",
      "    jupyter_contrib_core-0.4.0 |     pyhd8ed1ab_0          18 KB  conda-forge\n",
      "    jupyter_nbextensions_configurator-0.6.1|     pyhd8ed1ab_0         450 KB  conda-forge\n",
      "    ------------------------------------------------------------\n",
      "                                           Total:         468 KB\n",
      "\n",
      "The following NEW packages will be INSTALLED:\n",
      "\n",
      "  jupyter_contrib_c~ conda-forge/noarch::jupyter_contrib_core-0.4.0-pyhd8ed1ab_0\n",
      "  jupyter_nbextensi~ conda-forge/noarch::jupyter_nbextensions_configurator-0.6.1-pyhd8ed1ab_0\n",
      "\n",
      "\n",
      "\n",
      "Downloading and Extracting Packages\n",
      "jupyter_nbextensions | 450 KB    | ##################################### | 100% \n",
      "jupyter_contrib_core | 18 KB     | ##################################### | 100% \n",
      "Preparing transaction: done\n",
      "Verifying transaction: done\n",
      "Executing transaction: - Enabling: jupyter_nbextensions_configurator\n",
      "- Writing config: /Users/charlesmawusi/opt/anaconda3/etc/jupyter\n",
      "    - Validating...\n",
      "      jupyter_nbextensions_configurator 0.6.1 \u001b[32mOK\u001b[0m\n",
      "Enabling notebook nbextension nbextensions_configurator/config_menu/main...\n",
      "Enabling tree nbextension nbextensions_configurator/tree_tab/main...\n",
      "\n",
      "done\n",
      "Retrieving notices: ...working... done\n",
      "\n",
      "Note: you may need to restart the kernel to use updated packages.\n"
     ]
    }
   ],
   "source": [
    "conda install -c conda-forge jupyter_nbextensions_configurator"
   ]
  },
  {
   "cell_type": "code",
   "execution_count": 22,
   "id": "6f1da79a",
   "metadata": {},
   "outputs": [
    {
     "name": "stdout",
     "output_type": "stream",
     "text": [
      "my name is Charles Kodjo and i am 35 years old \n"
     ]
    }
   ],
   "source": [
    "first_name= \"Charles\"\n",
    "last_name=\"Kodjo\"\n",
    "full_name=first_name+\" \"+last_name\n",
    "age =35\n",
    "print(\"my name is {} and i am {} years old \".format(full_name, age))"
   ]
  },
  {
   "cell_type": "code",
   "execution_count": 23,
   "id": "6f7527ca",
   "metadata": {},
   "outputs": [],
   "source": [
    "# full_name = str(input(\"Enter Full Name:\" ))\n",
    "# age = int(input(\"Enter Age:\" ))\n",
    "# print(\"my name is {} and i am {} years of age \".format(full_name.upper(), age) )\n",
    "# print(full_name.capitalize())"
   ]
  },
  {
   "cell_type": "code",
   "execution_count": 7,
   "id": "847689d0",
   "metadata": {},
   "outputs": [
    {
     "name": "stdout",
     "output_type": "stream",
     "text": [
      "1 3 60\n",
      "<class 'int'>\n"
     ]
    }
   ],
   "source": [
    "#### Multiple Assignment \n",
    "x, y, z = 1, 3, 60\n",
    "print(x, y, z)\n",
    "print(type(x))"
   ]
  },
  {
   "cell_type": "code",
   "execution_count": 12,
   "id": "87c6d731",
   "metadata": {},
   "outputs": [
    {
     "name": "stdout",
     "output_type": "stream",
     "text": [
      "3\n",
      "4\n",
      "3\n",
      "3.142\n",
      "9.872164\n"
     ]
    }
   ],
   "source": [
    "import math \n",
    "\n",
    "pi=3.142\n",
    "print(round(pi))\n",
    "print(math.ceil(pi))\n",
    "print(math.floor(pi))# lower rounding \n",
    "print(abs(pi))\n",
    "print(pow(pi, 2))# raise to power "
   ]
  },
  {
   "cell_type": "markdown",
   "id": "2fd76a7b",
   "metadata": {},
   "source": [
    "### string Slicing "
   ]
  },
  {
   "cell_type": "code",
   "execution_count": 17,
   "id": "ad1718bf",
   "metadata": {},
   "outputs": [
    {
     "name": "stdout",
     "output_type": "stream",
     "text": [
      "charles\n",
      "Kodjo\n"
     ]
    }
   ],
   "source": [
    "name= \"charles Kodjo\"\n",
    "first_name =name[:7]\n",
    "last_name=name[8: ]\n",
    "print(first_name)\n",
    "print(last_name)"
   ]
  },
  {
   "cell_type": "code",
   "execution_count": 28,
   "id": "917aa579",
   "metadata": {},
   "outputs": [
    {
     "name": "stdout",
     "output_type": "stream",
     "text": [
      "google\n"
     ]
    }
   ],
   "source": [
    "website=\"https://www.google.com/\"\n",
    "slice1 =slice(12, -5)\n",
    "name_of_website=website[slice1]\n",
    "print(name_of_website)"
   ]
  },
  {
   "cell_type": "code",
   "execution_count": null,
   "id": "5e00e49e",
   "metadata": {},
   "outputs": [],
   "source": [
    "### If statement and logical operators "
   ]
  },
  {
   "cell_type": "code",
   "execution_count": 29,
   "id": "18197a27",
   "metadata": {},
   "outputs": [
    {
     "name": "stdout",
     "output_type": "stream",
     "text": [
      " Enter age:30\n",
      " You are an adult\n"
     ]
    }
   ],
   "source": [
    "age = int(input(\" Enter age:\"))\n",
    "\n",
    "if age >=18:\n",
    "    print(\" You are an adult\")\n",
    "elif age<18:\n",
    "    print(\"You are a child\")\n",
    "else: \n",
    "    print(\"you havent been born yet\")"
   ]
  },
  {
   "cell_type": "code",
   "execution_count": 32,
   "id": "1b08ab45",
   "metadata": {},
   "outputs": [
    {
     "name": "stdout",
     "output_type": "stream",
     "text": [
      " Enter the temperature: 25\n",
      "The temperature is good today\n",
      "Stay outside \n"
     ]
    }
   ],
   "source": [
    "temp= int(input(\" Enter the temperature: \"))\n",
    "if temp > 0 and temp<30:\n",
    "    print (\"The temperature is good today\")\n",
    "    print(\"Stay outside \")\n",
    "elif not(tem<0 and temp>0):\n",
    "    print(\"temperature is not good today\")\n",
    "    print(\"Stay inside\")"
   ]
  },
  {
   "cell_type": "code",
   "execution_count": null,
   "id": "d78d5cc0",
   "metadata": {},
   "outputs": [],
   "source": []
  }
 ],
 "metadata": {
  "kernelspec": {
   "display_name": "Python 3 (ipykernel)",
   "language": "python",
   "name": "python3"
  },
  "language_info": {
   "codemirror_mode": {
    "name": "ipython",
    "version": 3
   },
   "file_extension": ".py",
   "mimetype": "text/x-python",
   "name": "python",
   "nbconvert_exporter": "python",
   "pygments_lexer": "ipython3",
   "version": "3.9.7"
  }
 },
 "nbformat": 4,
 "nbformat_minor": 5
}
