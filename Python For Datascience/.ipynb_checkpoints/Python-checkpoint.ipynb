{
 "cells": [
  {
   "cell_type": "markdown",
   "id": "fa8f2db0",
   "metadata": {},
   "source": [
    "## Introduction To Python\n",
    "#### By Charles MAWUSI "
   ]
  },
  {
   "cell_type": "code",
   "execution_count": 6,
   "id": "b763a551",
   "metadata": {},
   "outputs": [
    {
     "name": "stdout",
     "output_type": "stream",
     "text": [
      "My name is: 21\n",
      "<class 'int'>\n"
     ]
    }
   ],
   "source": [
    "age = 21\n",
    "print( \"My name is:\" + \" \"+ str(age) )\n",
    "print(type(age))"
   ]
  },
  {
   "cell_type": "code",
   "execution_count": 32,
   "id": "31c00db6",
   "metadata": {},
   "outputs": [
    {
     "name": "stdout",
     "output_type": "stream",
     "text": [
      "charles 36 fine \n",
      "lenth of name : 7\n",
      "CHARLES charles\n",
      "6\n",
      "1\n",
      "charlIE\n"
     ]
    }
   ],
   "source": [
    "name, age , attractivenes=\"charles\", 36, \"fine \"\n",
    "print(name, age, attractivenes )\n",
    "print(\"lenth of name : {}\".format(len(name)))\n",
    "print(name.upper()+\" \" +name.lower())\n",
    "print(name.find(\"s\"))\n",
    "print(name.count(\"a\"))\n",
    "print(name.replace(\"es\", \"IE\"))"
   ]
  },
  {
   "cell_type": "code",
   "execution_count": 39,
   "id": "ffd58323",
   "metadata": {},
   "outputs": [
    {
     "name": "stdout",
     "output_type": "stream",
     "text": [
      "Whats is your name ?: famous \n",
      "whats yur age 36\n",
      "my height is: 190\n",
      "My name is famous  \n",
      " I am 36 years old \n",
      " my height is 190.0 cm\n"
     ]
    }
   ],
   "source": [
    "### Type casting  and input\n",
    "a=23\n",
    "a=float(a)\n",
    "b=str(a)\n",
    "name =input(\"Whats is your name ?: \")\n",
    "age =int(input(\"whats yur age \"))\n",
    "height = float(input(\"my height is: \"))\n",
    "\n",
    "print(\"My name is {} \\n I am {} years old \\n my height is {} cm\".format(name, age, height))"
   ]
  },
  {
   "cell_type": "code",
   "execution_count": 86,
   "id": "050580f3",
   "metadata": {},
   "outputs": [
    {
     "name": "stdout",
     "output_type": "stream",
     "text": [
      "3\n"
     ]
    }
   ],
   "source": [
    "import math \n",
    "pi=3.142\n",
    "print(round(pi))"
   ]
  },
  {
   "cell_type": "code",
   "execution_count": 87,
   "id": "8a2b422b",
   "metadata": {},
   "outputs": [
    {
     "ename": "TypeError",
     "evalue": "'slice' object is not callable",
     "output_type": "error",
     "traceback": [
      "\u001b[0;31m---------------------------------------------------------------------------\u001b[0m",
      "\u001b[0;31mTypeError\u001b[0m                                 Traceback (most recent call last)",
      "\u001b[0;32m/var/folders/3b/jvvrp_7s1jz8p5_g9p9v60g00000gn/T/ipykernel_78280/1881899694.py\u001b[0m in \u001b[0;36m<module>\u001b[0;34m\u001b[0m\n\u001b[1;32m      1\u001b[0m \u001b[0memail\u001b[0m \u001b[0;34m=\u001b[0m \u001b[0;34m\"Charles@yahoo.com\"\u001b[0m\u001b[0;34m\u001b[0m\u001b[0;34m\u001b[0m\u001b[0m\n\u001b[0;32m----> 2\u001b[0;31m \u001b[0ma\u001b[0m \u001b[0;34m=\u001b[0m \u001b[0mslice\u001b[0m\u001b[0;34m(\u001b[0m\u001b[0;36m7\u001b[0m\u001b[0;34m,\u001b[0m \u001b[0;34m-\u001b[0m\u001b[0;36m4\u001b[0m\u001b[0;34m)\u001b[0m\u001b[0;34m\u001b[0m\u001b[0;34m\u001b[0m\u001b[0m\n\u001b[0m\u001b[1;32m      3\u001b[0m \u001b[0mprint\u001b[0m\u001b[0;34m(\u001b[0m\u001b[0memail\u001b[0m\u001b[0;34m[\u001b[0m\u001b[0ma\u001b[0m\u001b[0;34m]\u001b[0m\u001b[0;34m)\u001b[0m\u001b[0;34m\u001b[0m\u001b[0;34m\u001b[0m\u001b[0m\n",
      "\u001b[0;31mTypeError\u001b[0m: 'slice' object is not callable"
     ]
    }
   ],
   "source": []
  },
  {
   "cell_type": "code",
   "execution_count": null,
   "id": "b85a999e",
   "metadata": {},
   "outputs": [],
   "source": []
  }
 ],
 "metadata": {
  "kernelspec": {
   "display_name": "Python 3 (ipykernel)",
   "language": "python",
   "name": "python3"
  },
  "language_info": {
   "codemirror_mode": {
    "name": "ipython",
    "version": 3
   },
   "file_extension": ".py",
   "mimetype": "text/x-python",
   "name": "python",
   "nbconvert_exporter": "python",
   "pygments_lexer": "ipython3",
   "version": "3.9.7"
  },
  "varInspector": {
   "cols": {
    "lenName": 16,
    "lenType": 16,
    "lenVar": 40
   },
   "kernels_config": {
    "python": {
     "delete_cmd_postfix": "",
     "delete_cmd_prefix": "del ",
     "library": "var_list.py",
     "varRefreshCmd": "print(var_dic_list())"
    },
    "r": {
     "delete_cmd_postfix": ") ",
     "delete_cmd_prefix": "rm(",
     "library": "var_list.r",
     "varRefreshCmd": "cat(var_dic_list()) "
    }
   },
   "types_to_exclude": [
    "module",
    "function",
    "builtin_function_or_method",
    "instance",
    "_Feature"
   ],
   "window_display": false
  }
 },
 "nbformat": 4,
 "nbformat_minor": 5
}
